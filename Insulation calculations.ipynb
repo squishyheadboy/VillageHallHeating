{
 "cells": [
  {
   "attachments": {},
   "cell_type": "markdown",
   "metadata": {},
   "source": [
    "# Village hall insulation"
   ]
  },
  {
   "cell_type": "code",
   "execution_count": 14,
   "metadata": {},
   "outputs": [
    {
     "name": "stdout",
     "output_type": "stream",
     "text": [
      "Insulation area in main room = 45.8 m^2\n",
      "Number of wall slabs required = 16.0\n",
      "Wall insulation cost = £960.00\n",
      "Under floor area = 148.4 m^2\n",
      "Number of floor slabs required = 52.0\n",
      "Floor insulation cost = £3380.00\n"
     ]
    }
   ],
   "source": [
    "import math\n",
    "\n",
    "is_area = 1.2*2.4 # Area of a slab of insulation\n",
    "is_cost = 60 # pounds per sheet for wall slabs\n",
    "fs_cost = 65 # pounds per sheet for floor slabs\n",
    "\n",
    "l_mainroom=13.2\n",
    "w_mainroom=7.1\n",
    "h_mainroom=2.3 # Wall height\n",
    "p_mainroom=3.7 # Peak height\n",
    "\n",
    "wa_mainroom=1.7*1.1*8 # area of windows\n",
    "\n",
    "aw_mainroom = 2*l_mainroom*h_mainroom-wa_mainroom\n",
    "\n",
    "print (f'Insulation area in main room = {aw_mainroom:.1f} m^2')\n",
    "\n",
    "n_slabs_wall = math.ceil(aw_mainroom/is_area)\n",
    "\n",
    "print (f'Number of wall slabs required = {n_slabs_wall:.1f}')\n",
    "\n",
    "cost_wall = n_slabs_wall*is_cost\n",
    "\n",
    "print (f'Wall insulation cost = £{cost_wall:.2f}')\n",
    "\n",
    "l_floor = 22 # full length of hall\n",
    "jst_pct=0.05; ## percentage of length taken up with joists (guesstimate)\n",
    "a_floor = l_floor*w_mainroom*(1-jst_pct)\n",
    "\n",
    "print(f'Under floor area = {a_floor:.1f} m^2')\n",
    "\n",
    "n_slabs_floor = math.ceil(a_floor/is_area)\n",
    "\n",
    "print (f'Number of floor slabs required = {n_slabs_floor:.1f}')\n",
    "\n",
    "cost_floor = n_slabs_floor*fs_cost\n",
    "\n",
    "print (f'Floor insulation cost = £{cost_floor:.2f}')\n"
   ]
  }
 ],
 "metadata": {
  "kernelspec": {
   "display_name": "Python 3",
   "language": "python",
   "name": "python3"
  },
  "language_info": {
   "codemirror_mode": {
    "name": "ipython",
    "version": 3
   },
   "file_extension": ".py",
   "mimetype": "text/x-python",
   "name": "python",
   "nbconvert_exporter": "python",
   "pygments_lexer": "ipython3",
   "version": "3.9.13"
  },
  "orig_nbformat": 4,
  "vscode": {
   "interpreter": {
    "hash": "0296811b97cb3f0425d8c30e1a41b9d164f5822cc10463fcd016c655a9753644"
   }
  }
 },
 "nbformat": 4,
 "nbformat_minor": 2
}
